{
 "cells": [
  {
   "cell_type": "code",
   "execution_count": 1,
   "metadata": {},
   "outputs": [],
   "source": [
    "import json\n",
    "import os"
   ]
  },
  {
   "cell_type": "code",
   "execution_count": null,
   "metadata": {},
   "outputs": [],
   "source": [
    "def scrape_site():\n",
    "    #call([\"scrapy\", \"crawl\", \"wg-gesucht\", \"-o\", \"wg_offer.json\", \"-s\", \"LOG_ENABLED=false\"])\n",
    "    with open('wg_offer.json') as data_file:\n",
    "        data = json.load(data_file)\n",
    "    data = list(set([i[u'data-id'] for i in data]))\n",
    "    if os.path.isfile('wg_offer_old.json'):\n",
    "        with open('wg_offer_old.json') as data_old_file:\n",
    "            data_old = json.load(data_old_file)\n",
    "        data_old = list(set([i[u'data-id'] for i in data_old]))\n",
    "    else:\n",
    "        data_old = []\n",
    "    return data, data_old"
   ]
  },
  {
   "cell_type": "code",
   "execution_count": 7,
   "metadata": {},
   "outputs": [
    {
     "name": "stdout",
     "output_type": "stream",
     "text": [
      "[{'data-id': '/wg-zimmer-in-Muenchen-Maxvorstadt.8881197.html'}, {'data-id': '/wg-zimmer-in-Muenchen-Trudering-Riem.8528938.html'}, 1]\n"
     ]
    }
   ],
   "source": [
    "with open('wg_offer.json') as data_file:\n",
    "        data = json.load(data_file)\n",
    "# data = list(set([i[u'data-id'] for i in data]))\n",
    "# print(data)"
   ]
  },
  {
   "cell_type": "code",
   "execution_count": 9,
   "metadata": {},
   "outputs": [
    {
     "data": {
      "text/plain": [
       "[1, 2, 3]"
      ]
     },
     "execution_count": 9,
     "metadata": {},
     "output_type": "execute_result"
    }
   ],
   "source": [
    "lst= [1,2,3]\n",
    "lst.extend([])\n",
    "lst"
   ]
  },
  {
   "cell_type": "code",
   "execution_count": 3,
   "metadata": {},
   "outputs": [],
   "source": [
    "if os.path.isfile('wg_offer_old.json'):\n",
    "            \n",
    "    with open('wg_offer_old.json') as data_old_file:\n",
    "        data_old = json.load(data_old_file)\n",
    "        \n",
    "else: data_old = []\n",
    "\n",
    "with open('wg_offer.json') as data_file:\n",
    "    data = json.load(data_file)\n",
    "            \n",
    "data.extend(data_old)\n"
   ]
  },
  {
   "cell_type": "code",
   "execution_count": 12,
   "metadata": {},
   "outputs": [
    {
     "name": "stdout",
     "output_type": "stream",
     "text": [
      "[{'data-id': '/wg-zimmer-in-Muenchen-Maxvorstadt.8881197.html'}, {'data-id': '/wg-zimmer-in-Muenchen-Trudering-Riem.8528938.html'}, {'data-id': '/wg-zimmer-in-Muenchen-Maxvorstadt.8881197.html'}, {'data-id': '/wg-zimmer-in-Muenchen-Trudering-Riem.8528938.html'}, {'data-id': '/wg-zimmer-in-Muenchen-Maxvorstadt.8881197.html'}, {'data-id': '/wg-zimmer-in-Muenchen-Trudering-Riem.8528938.html'}]\n"
     ]
    },
    {
     "ename": "",
     "evalue": "",
     "output_type": "error",
     "traceback": [
      "\u001b[1;31mThe Kernel crashed while executing code in the the current cell or a previous cell. Please review the code in the cell(s) to identify a possible cause of the failure. Click <a href='https://aka.ms/vscodeJupyterKernelCrash'>here</a> for more info. View Jupyter <a href='command:jupyter.viewOutput'>log</a> for further details."
     ]
    }
   ],
   "source": [
    "\n",
    "with open('wg_offer_old.json', 'w') as data_old_file:\n",
    "    json.dump(data, data_old_file)\n",
    "    print(data)"
   ]
  },
  {
   "cell_type": "code",
   "execution_count": null,
   "metadata": {},
   "outputs": [],
   "source": []
  }
 ],
 "metadata": {
  "kernelspec": {
   "display_name": "Python 3",
   "language": "python",
   "name": "python3"
  },
  "language_info": {
   "codemirror_mode": {
    "name": "ipython",
    "version": 3
   },
   "file_extension": ".py",
   "mimetype": "text/x-python",
   "name": "python",
   "nbconvert_exporter": "python",
   "pygments_lexer": "ipython3",
   "version": "3.8.10"
  },
  "orig_nbformat": 4
 },
 "nbformat": 4,
 "nbformat_minor": 2
}
